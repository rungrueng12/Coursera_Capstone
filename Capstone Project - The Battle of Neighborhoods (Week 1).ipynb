{
 "cells": [
  {
   "cell_type": "markdown",
   "metadata": {},
   "source": [
    "#### This capstone project will be graded by your peers. This capstone project is worth 70% of your total grade. The project will be completed over the course of 2 weeks. Week 1 submissions will be worth 30% whereas week 2 submissions will be worth 40% of your total grade.\n",
    "\n",
    "For this week, you will required to submit the following:\n",
    "1. A description of the problem and a discussion of the background. (15 marks)\n",
    "2. A description of the data and how it will be used to solve the problem. (15 marks)"
   ]
  },
  {
   "cell_type": "markdown",
   "metadata": {},
   "source": [
    "1. A description of the problem and a discussion of the background. (15 marks)\n",
    "- Due to nice weather and nature of Chiang Mai which located in North Thailand, many tourists from foreigner such as China, South korea etc.\n",
    "most likely to come all year long and tourists also grow up every year. There are many opportunities such as Hotels and Restaurants that can provide\n",
    "to these tourist. So this project want to find suitable location for restaurant in Chaing Mai\n",
    "\n",
    "2. A description of the data and how it will be used to solve the problem. (15 marks)\n",
    "- The data provided will come from foursquare which tell us about location, number of restaurant and how dense it is?\n",
    "It can tell us which location will be proper to us and how dense of tourist and restaurants"
   ]
  },
  {
   "cell_type": "code",
   "execution_count": null,
   "metadata": {},
   "outputs": [],
   "source": []
  }
 ],
 "metadata": {
  "kernelspec": {
   "display_name": "Python",
   "language": "python",
   "name": "conda-env-python-py"
  },
  "language_info": {
   "codemirror_mode": {
    "name": "ipython",
    "version": 3
   },
   "file_extension": ".py",
   "mimetype": "text/x-python",
   "name": "python",
   "nbconvert_exporter": "python",
   "pygments_lexer": "ipython3",
   "version": "3.6.11"
  }
 },
 "nbformat": 4,
 "nbformat_minor": 4
}
